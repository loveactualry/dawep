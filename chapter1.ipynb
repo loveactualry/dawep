{
 "metadata": {
  "language_info": {
   "codemirror_mode": {
    "name": "ipython",
    "version": 3
   },
   "file_extension": ".py",
   "mimetype": "text/x-python",
   "name": "python",
   "nbconvert_exporter": "python",
   "pygments_lexer": "ipython3",
   "version": 3
  },
  "orig_nbformat": 2
 },
 "nbformat": 4,
 "nbformat_minor": 2,
 "cells": [
  {
   "source": [
    "# 모두의 데이터 분석 with 파이썬\n",
    "## 길벗 출판사\n",
    "\n",
    "### 1. 기온 공공데이터\n",
    "### 2. 데이터 시각화 기초\n",
    "### 3. 인구 공공데이터\n",
    "### 4. 대중교통 데이터 프로젝트\n",
    "### 5. 파이썬 데이터 분석 라이브러리를 활용한 프로젝트"
   ],
   "cell_type": "markdown",
   "metadata": {}
  },
  {
   "source": [
    "### 1. 기온 공공데이터\n",
    "#### UNIT 01. 기온 데이터 분석 시작하기\n"
   ],
   "cell_type": "markdown",
   "metadata": {}
  },
  {
   "source": [
    "<img src=\"https://thebook.io/img/007029/p014.jpg\"  />\n"
   ],
   "cell_type": "markdown",
   "metadata": {}
  },
  {
   "cell_type": "code",
   "execution_count": null,
   "metadata": {},
   "outputs": [],
   "source": []
  }
 ]
}